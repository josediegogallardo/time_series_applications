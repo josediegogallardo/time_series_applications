{
 "cells": [
  {
   "cell_type": "code",
   "execution_count": null,
   "id": "27df8c60",
   "metadata": {},
   "outputs": [],
   "source": []
  },
  {
   "cell_type": "code",
   "execution_count": null,
   "id": "fc21f359",
   "metadata": {},
   "outputs": [],
   "source": [
    "# Actual data Electricity\n",
    "# From https://www.coes.org.pe/Portal/portalinformacion/VisorPowerBI\n",
    "df.loc['2023-01-31']['p_elec'] = 4.413785358\n",
    "\n",
    "# Actual data of cement\n",
    "# Correct calculation from monthly report from ASOCEM: http://www.asocem.org.pe/\n",
    "# Consumption = dispatch - exportation + importartion\n",
    "# But since exportation and importation ASOCEM data differ from INEI we use the dispach variation\n",
    "df.loc['2022-12-31']['c_cement'] = -6.71978501 # Inei Official data\n",
    "df.loc['2023-01-31']['c_cement'] = -15.9007353 # ASOCEM dispatch"
   ]
  }
 ],
 "metadata": {
  "kernelspec": {
   "display_name": "Python 3 (ipykernel)",
   "language": "python",
   "name": "python3"
  },
  "language_info": {
   "codemirror_mode": {
    "name": "ipython",
    "version": 3
   },
   "file_extension": ".py",
   "mimetype": "text/x-python",
   "name": "python",
   "nbconvert_exporter": "python",
   "pygments_lexer": "ipython3",
   "version": "3.9.7"
  }
 },
 "nbformat": 4,
 "nbformat_minor": 5
}
